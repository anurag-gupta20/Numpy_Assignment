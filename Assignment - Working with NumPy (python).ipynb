{
 "cells": [
  {
   "cell_type": "code",
   "execution_count": 1,
   "id": "65fb4ca9-f9fb-4f72-b958-0febf55751a4",
   "metadata": {},
   "outputs": [],
   "source": [
    "import numpy as np"
   ]
  },
  {
   "cell_type": "markdown",
   "id": "90bacfc8-cc49-42a4-8709-b8587447d688",
   "metadata": {},
   "source": [
    "## 1. How to Creating a 3x3 Identity Matrix with Float Data Type? "
   ]
  },
  {
   "cell_type": "code",
   "execution_count": 2,
   "id": "c985b4a2-ce26-4373-ab8b-169365071abd",
   "metadata": {},
   "outputs": [
    {
     "name": "stdout",
     "output_type": "stream",
     "text": [
      "[[1. 0. 0.]\n",
      " [0. 1. 0.]\n",
      " [0. 0. 1.]]\n"
     ]
    }
   ],
   "source": [
    "a = np.identity(3, dtype=float)\n",
    "print(a)"
   ]
  },
  {
   "cell_type": "markdown",
   "id": "1dae8908-45e5-4505-afe7-b3e5aa09f685",
   "metadata": {},
   "source": [
    "## 2. Create a 1D Array with Random Values between 0 and 1. "
   ]
  },
  {
   "cell_type": "code",
   "execution_count": 3,
   "id": "dca8e9ae-5f40-4c0a-b889-9497b3e1e154",
   "metadata": {},
   "outputs": [
    {
     "data": {
      "text/plain": [
       "array([0.95860226, 0.20377971, 0.35991012, 0.83873289, 0.95823914])"
      ]
     },
     "execution_count": 3,
     "metadata": {},
     "output_type": "execute_result"
    }
   ],
   "source": [
    "array1 = np.random.rand(5)\n",
    "array1"
   ]
  },
  {
   "cell_type": "markdown",
   "id": "80a1ac16-4f36-46ed-9e9f-43ca6c9e4f41",
   "metadata": {},
   "source": [
    "## 3. Create a 2D Array with Random Integer Values. "
   ]
  },
  {
   "cell_type": "code",
   "execution_count": 4,
   "id": "18f21126-462b-4f9d-b2b8-f489611c29f4",
   "metadata": {},
   "outputs": [
    {
     "data": {
      "text/plain": [
       "array([[2, 2, 1, 0],\n",
       "       [2, 3, 1, 3]])"
      ]
     },
     "execution_count": 4,
     "metadata": {},
     "output_type": "execute_result"
    }
   ],
   "source": [
    "array2 = np.random.randint(5, size=(2, 4))\n",
    "array2"
   ]
  },
  {
   "cell_type": "markdown",
   "id": "a0478368-966e-4e2b-9935-edf2490cf8c8",
   "metadata": {},
   "source": [
    "## 4. Creating an Array Using a Custom Function. "
   ]
  },
  {
   "cell_type": "code",
   "execution_count": 9,
   "id": "79d66f16-074c-49a0-996c-cd3652bfb704",
   "metadata": {},
   "outputs": [
    {
     "data": {
      "text/plain": [
       "array([[5, 5, 5, 3],\n",
       "       [1, 6, 2, 5]])"
      ]
     },
     "execution_count": 9,
     "metadata": {},
     "output_type": "execute_result"
    }
   ],
   "source": [
    "def cf(i, j):\n",
    "    return np.random.randint(i, j, (2,4))\n",
    "\n",
    "cf(1,7)"
   ]
  },
  {
   "cell_type": "markdown",
   "id": "3cbae90b-4cd8-4fcf-ba69-32aeb64a968d",
   "metadata": {},
   "source": [
    "## 5. Reshaping a 1D Array into a 2D Array "
   ]
  },
  {
   "cell_type": "code",
   "execution_count": 10,
   "id": "7670f6ad-5fc7-4b7f-976d-cb0125e73ed5",
   "metadata": {},
   "outputs": [
    {
     "data": {
      "text/plain": [
       "array([[1, 2],\n",
       "       [3, 4]])"
      ]
     },
     "execution_count": 10,
     "metadata": {},
     "output_type": "execute_result"
    }
   ],
   "source": [
    "a = np.array([1,2,3,4])\n",
    "b=a.reshape(2,2)\n",
    "b"
   ]
  },
  {
   "cell_type": "markdown",
   "id": "0af3bb9c-bad0-46db-b97f-4856fa0f069b",
   "metadata": {},
   "source": [
    "## 6. How to Creating a 3x3 Array of Ones? "
   ]
  },
  {
   "cell_type": "code",
   "execution_count": 11,
   "id": "57a48dd0-0554-41ce-bb97-65a35c9f0e90",
   "metadata": {},
   "outputs": [
    {
     "data": {
      "text/plain": [
       "array([[1., 1., 1.],\n",
       "       [1., 1., 1.],\n",
       "       [1., 1., 1.]])"
      ]
     },
     "execution_count": 11,
     "metadata": {},
     "output_type": "execute_result"
    }
   ],
   "source": [
    "ones = np.ones((3,3))\n",
    "ones"
   ]
  },
  {
   "cell_type": "markdown",
   "id": "903cdc22-e97d-43e6-bb4d-a2c664545cba",
   "metadata": {},
   "source": [
    "## 7. How to get the common items between two pythons NumPy?"
   ]
  },
  {
   "cell_type": "markdown",
   "id": "638de479-6e42-4f1b-a736-9a814d43b73c",
   "metadata": {},
   "source": [
    "## Input: a = np. array ([1,2,3,2,3,4,3,4,5,6]) b = np. array ([7,2,10,2,7,4,9,4,9,8]) Expected Output: array ([2, 4])"
   ]
  },
  {
   "cell_type": "code",
   "execution_count": 14,
   "id": "1a4dc500-33cc-4fa2-8738-10eb8a0576a0",
   "metadata": {},
   "outputs": [
    {
     "data": {
      "text/plain": [
       "array([2, 4])"
      ]
     },
     "execution_count": 14,
     "metadata": {},
     "output_type": "execute_result"
    }
   ],
   "source": [
    "a = np. array ([1,2,3,2,3,4,3,4,5,6])\n",
    "b = np. array ([7,2,10,2,7,4,9,4,9,8])\n",
    "c = np.intersect1d(a,b)\n",
    "c"
   ]
  },
  {
   "cell_type": "markdown",
   "id": "6ebbfd47-7828-43ab-92d3-1bcdf841bc3e",
   "metadata": {},
   "source": [
    "## 8. From array a remove all items present in array b Input: a = np. array ([1,2,3,4,5]) b = np. array ([5,6,7,8,9]) Expected Output: array ([1,2,3,4]"
   ]
  },
  {
   "cell_type": "code",
   "execution_count": 15,
   "id": "303166d9-5961-4da7-af86-a04fd5d0ed88",
   "metadata": {},
   "outputs": [
    {
     "data": {
      "text/plain": [
       "array([1, 2, 3, 4])"
      ]
     },
     "execution_count": 15,
     "metadata": {},
     "output_type": "execute_result"
    }
   ],
   "source": [
    "a = np. array ([1,2,3,4,5])\n",
    "b = np. array ([5,6,7,8,9])\n",
    "c = np.setdiff1d(a,b)\n",
    "c"
   ]
  },
  {
   "cell_type": "markdown",
   "id": "fccf15d6-3d50-4399-944f-d728f11acf74",
   "metadata": {},
   "source": [
    "## 9. Limit the number of items printed in python NumPy array a to a maximum of 6 elements. a = np. arrange (15) Expected Output: array ([ 0, 1, 2, ..., 12, 13, 14] "
   ]
  },
  {
   "cell_type": "code",
   "execution_count": 16,
   "id": "d52e04dd-dcf1-4755-ba2d-e113e6b3e6ff",
   "metadata": {},
   "outputs": [
    {
     "data": {
      "text/plain": [
       "array([ 0,  1,  2,  3,  4,  5,  6,  7,  8,  9, 10, 11, 12, 13, 14])"
      ]
     },
     "execution_count": 16,
     "metadata": {},
     "output_type": "execute_result"
    }
   ],
   "source": [
    "a = np.arange(15)\n",
    "np.set_printoptions()\n",
    "a"
   ]
  },
  {
   "cell_type": "markdown",
   "id": "9641a777-f962-417a-897c-0c0810de8b87",
   "metadata": {},
   "source": [
    "## 10. Drop all nan values from a 1D NumPy array Input: np. array ([1,2,3, np.nan,5,6,7, np.nan]) Desired Output: array ([ 1., 2., 3., 5., 6., 7.]) "
   ]
  },
  {
   "cell_type": "code",
   "execution_count": 17,
   "id": "391cc9fb-72b1-4f4b-9583-10b263aa235f",
   "metadata": {},
   "outputs": [
    {
     "data": {
      "text/plain": [
       "array([1., 2., 3., 5., 6., 7.])"
      ]
     },
     "execution_count": 17,
     "metadata": {},
     "output_type": "execute_result"
    }
   ],
   "source": [
    "a = np. array ([1,2,3, np.nan,5,6,7, np.nan])\n",
    "b = a[~np.isnan(a)]\n",
    "b"
   ]
  },
  {
   "cell_type": "markdown",
   "id": "8144d627-4f7f-4cab-be0c-259a711efaf6",
   "metadata": {},
   "source": [
    "## 11. Question: Create a 1D NumPy array of the first 20 natural numbers and a 2D NumPy array of shape (4, 5) with values ranging from 1 to 20. "
   ]
  },
  {
   "cell_type": "code",
   "execution_count": 18,
   "id": "bc63a6a8-180e-4602-a6f3-a67576e4e90b",
   "metadata": {},
   "outputs": [
    {
     "name": "stdout",
     "output_type": "stream",
     "text": [
      "[ 1  2  3  4  5  6  7  8  9 10 11 12 13 14 15 16 17 18 19 20]\n",
      "[[ 1  2  3  4  5]\n",
      " [ 6  7  8  9 10]\n",
      " [11 12 13 14 15]\n",
      " [16 17 18 19 20]]\n"
     ]
    }
   ],
   "source": [
    "a = np.arange(1,21)\n",
    "print(a)\n",
    "\n",
    "b = a.reshape(4,5)\n",
    "print(b)"
   ]
  },
  {
   "cell_type": "markdown",
   "id": "af5ad508-4835-4b76-9310-1dae3957b8ba",
   "metadata": {},
   "source": [
    "## 12. Question: Given a 3D NumPy array of shape (2, 3, 4), find its shape, size, number of dimensions, and data type. Change its data type to float64 and verify the change. "
   ]
  },
  {
   "cell_type": "code",
   "execution_count": 19,
   "id": "3b982423-dc13-44a3-869a-a5964e3e0820",
   "metadata": {},
   "outputs": [
    {
     "name": "stdout",
     "output_type": "stream",
     "text": [
      "[[[ 0  1  2  3]\n",
      "  [ 4  5  6  7]\n",
      "  [ 8  9 10 11]]\n",
      "\n",
      " [[12 13 14 15]\n",
      "  [16 17 18 19]\n",
      "  [20 21 22 23]]]\n",
      "Shape: (2, 3, 4)\n",
      "Size: 24\n",
      "Dimension: 3\n",
      "Data type: int32\n",
      "\n",
      "[[[ 0.  1.  2.  3.]\n",
      "  [ 4.  5.  6.  7.]\n",
      "  [ 8.  9. 10. 11.]]\n",
      "\n",
      " [[12. 13. 14. 15.]\n",
      "  [16. 17. 18. 19.]\n",
      "  [20. 21. 22. 23.]]]\n",
      "Shape: (2, 3, 4)\n",
      "Size: 24\n",
      "Dimension: 3\n",
      "Data type: float64\n"
     ]
    }
   ],
   "source": [
    "arr1 = np.arange(24).reshape(2,3,4)\n",
    "print(arr1)\n",
    "print(\"Shape:\", arr1.shape)\n",
    "print(\"Size:\", arr1.size)\n",
    "print(\"Dimension:\", arr1.ndim)\n",
    "print(\"Data type:\", arr1.dtype)\n",
    "print()\n",
    "float_3D = arr1.astype(float)\n",
    "print(float_3D)\n",
    "print(\"Shape:\", float_3D.shape)\n",
    "print(\"Size:\", float_3D.size)\n",
    "print(\"Dimension:\", float_3D.ndim)\n",
    "print(\"Data type:\", float_3D.dtype)"
   ]
  },
  {
   "cell_type": "markdown",
   "id": "20209251-7c4b-4814-8358-84cb36d1790d",
   "metadata": {},
   "source": [
    "## 13. Question: Reshape a 1D array of 12 elements into a 3x4 2D array and then flatten it back into a 1D array using ravel (). Verify that the flattened array matches the original. "
   ]
  },
  {
   "cell_type": "code",
   "execution_count": 20,
   "id": "2c50992c-0e28-47cf-82a2-bf3c654cdae5",
   "metadata": {},
   "outputs": [
    {
     "name": "stdout",
     "output_type": "stream",
     "text": [
      "[[ 0  1  2  3]\n",
      " [ 4  5  6  7]\n",
      " [ 8  9 10 11]]\n",
      "[ 0  1  2 ...  9 10 11]\n"
     ]
    }
   ],
   "source": [
    "c = np.arange(12).reshape(3,4)\n",
    "print(c)\n",
    "np.set_printoptions(threshold=0)\n",
    "d = np.ravel(c)\n",
    "print(d)"
   ]
  },
  {
   "cell_type": "markdown",
   "id": "957ead8f-3b74-4d07-8b0a-9a0ba93a7d27",
   "metadata": {},
   "source": [
    "## 14. Question: Given two arrays, a = np. array ([1, 2, 3]) and b = np. array ([4, 5, 6]), perform element-wise addition, subtraction, multiplication, and division. Explain the behavior when dividing by zero. "
   ]
  },
  {
   "cell_type": "code",
   "execution_count": 21,
   "id": "e0df5a5b-f96c-4287-9ac8-e54f8f8ad7c3",
   "metadata": {},
   "outputs": [
    {
     "name": "stdout",
     "output_type": "stream",
     "text": [
      "Addition: [5 7 9]\n",
      "Subtraction: [-3 -3 -3]\n",
      "Multiplication: [ 4 10 18]\n",
      "Division: [0.25 0.4  0.5 ]\n",
      "Divide by 0: [inf inf inf]\n"
     ]
    },
    {
     "name": "stderr",
     "output_type": "stream",
     "text": [
      "C:\\Users\\Admin\\AppData\\Local\\Temp\\ipykernel_3168\\1580672386.py:8: RuntimeWarning: divide by zero encountered in divide\n",
      "  print(\"Divide by 0:\", a/0)\n"
     ]
    }
   ],
   "source": [
    "a = np.array([1,2,3])\n",
    "b = np.array([4,5,6])\n",
    "\n",
    "print(\"Addition:\", a+b)\n",
    "print(\"Subtraction:\", a-b)\n",
    "print(\"Multiplication:\", a*b)\n",
    "print(\"Division:\", a/b)\n",
    "print(\"Divide by 0:\", a/0)"
   ]
  },
  {
   "cell_type": "markdown",
   "id": "89369c1e-8ea5-4c32-91ae-2866a1f65e80",
   "metadata": {},
   "source": [
    "## 15. Question: Create a 2D array of shape (3, 1) and a 1D array of length 3. Perform element-wise addition using broadcasting. Explain how broadcasting rules apply in this scenario."
   ]
  },
  {
   "cell_type": "markdown",
   "id": "cd65fbee-abd8-4483-ba32-54489d84dd10",
   "metadata": {},
   "source": [
    "## In summary, broadcasting simplifies the addition process between arrays of different shapes by expanding the smaller array's dimensions, allowing for seamless element-wise operations."
   ]
  },
  {
   "cell_type": "code",
   "execution_count": 22,
   "id": "a392d0fe-318c-4d20-b226-b664ddd59550",
   "metadata": {},
   "outputs": [
    {
     "name": "stdout",
     "output_type": "stream",
     "text": [
      "2d_array\n",
      " [[1]\n",
      " [2]\n",
      " [3]]\n",
      "1d_array\n",
      " [4 5 6]\n",
      "Addition\n",
      " [[5 6 7]\n",
      " [6 7 8]\n",
      " [7 8 9]]\n"
     ]
    }
   ],
   "source": [
    "array_2d = np.array([[1], [2], [3]])\n",
    "array_1d = np.array([4,5,6])\n",
    "addition = array_2d + array_1d\n",
    "\n",
    "print(\"2d_array\\n\", array_2d)\n",
    "print(\"1d_array\\n\", array_1d)\n",
    "print(\"Addition\\n\", addition)"
   ]
  },
  {
   "cell_type": "markdown",
   "id": "73533611-8dec-4c25-862e-6c70313130c2",
   "metadata": {},
   "source": [
    "## 16. Question: Generate a random 2D array of integers between 0 and 10. Use conditional operators to create a Boolean mask identifying elements greater than 5. Replace all elements greater than 5 with the value 5. "
   ]
  },
  {
   "cell_type": "code",
   "execution_count": 23,
   "id": "25ea8fbf-7320-44b5-8060-2bf1e533bd39",
   "metadata": {},
   "outputs": [
    {
     "name": "stdout",
     "output_type": "stream",
     "text": [
      "\n",
      "Original array\n",
      " [[ 2  6  4  8]\n",
      " [ 5  5  5 10]\n",
      " [ 9  2  8  9]\n",
      " [ 2  9  4  8]]\n",
      "\n",
      "Boolean masked array\n",
      " [[False  True False  True]\n",
      " [False False False  True]\n",
      " [ True False  True  True]\n",
      " [False  True False  True]]\n",
      "\n",
      "Modified array\n",
      " [[2 5 4 5]\n",
      " [5 5 5 5]\n",
      " [5 2 5 5]\n",
      " [2 5 4 5]]\n"
     ]
    }
   ],
   "source": [
    "array = np.random.randint(0, 11, size=(4,4))\n",
    "print(\"\\nOriginal array\\n\", array)\n",
    "\n",
    "mask = array > 5\n",
    "print(\"\\nBoolean masked array\\n\", mask)\n",
    "\n",
    "array[mask] = 5\n",
    "print(\"\\nModified array\\n\", array)"
   ]
  },
  {
   "cell_type": "markdown",
   "id": "aa653cdb-d376-4412-bb02-bd2469e3699d",
   "metadata": {},
   "source": [
    "## 17. Question: Given a 4x4 array of random integers, use indexing and slicing to extract: \n",
    "* The entire second row \n",
    "* The last column \n",
    "* The subarray consisting of the first two rows and first two columns "
   ]
  },
  {
   "cell_type": "code",
   "execution_count": 25,
   "id": "0d013c5c-f57b-4e52-b14b-5db2357813ee",
   "metadata": {},
   "outputs": [
    {
     "name": "stdout",
     "output_type": "stream",
     "text": [
      "\n",
      "Original array\n",
      " [[ 2  6  7 10]\n",
      " [ 7  9  3  1]\n",
      " [ 1  7  4  3]\n",
      " [ 8  3  4  4]]\n",
      "\n",
      "Second row\n",
      " [7 9 3 1]\n",
      "\n",
      "Last Column\n",
      " [10  1  3  4]\n",
      "\n",
      "Subarray with first two rows and column\n",
      " [[2 6]\n",
      " [7 9]]\n"
     ]
    }
   ],
   "source": [
    "array = np.random.randint(0, 11, size=(4,4))\n",
    "print(\"\\nOriginal array\\n\", array)\n",
    "\n",
    "second_row = array[1, :]\n",
    "print(\"\\nSecond row\\n\", second_row)\n",
    "\n",
    "last_column = array[:, -1]\n",
    "print(\"\\nLast Column\\n\", last_column)\n",
    "\n",
    "subarray = array[:2, :2]\n",
    "print(\"\\nSubarray with first two rows and column\\n\", subarray)"
   ]
  },
  {
   "cell_type": "markdown",
   "id": "aff8f425-f181-4126-9248-4a470e9aee3f",
   "metadata": {},
   "source": [
    "## 18. Question: Describe a practical example where NumPy can be used in EDA, AI, ML, and DL, and implement a NumPy solution for a simple task in each area. "
   ]
  },
  {
   "cell_type": "code",
   "execution_count": 26,
   "id": "8abb3afb-9289-4ba7-aeff-644253aa63e9",
   "metadata": {},
   "outputs": [
    {
     "name": "stdout",
     "output_type": "stream",
     "text": [
      "\n",
      "Mean Height: 174.28\n",
      "\n",
      "Standard Deviation of Height: 14.026460708247109\n"
     ]
    }
   ],
   "source": [
    "# For EDA\n",
    "\n",
    "# Simulated dataset (e.g., heights of individuals in cm)\n",
    "data = np.random.randint(150, 200, size=100)  # 100 random heights\n",
    "mean = np.mean(data)\n",
    "std_dev = np.std(data)\n",
    "\n",
    "print(\"\\nMean Height:\", mean)\n",
    "print(\"\\nStandard Deviation of Height:\", std_dev)"
   ]
  },
  {
   "cell_type": "markdown",
   "id": "3ec41ed6-2edb-4de1-9c4c-4a1a1dd97f97",
   "metadata": {},
   "source": [
    "## 19. Question: Create a random 4x4 matrix and use NumPy to compute its eigenvalues and eigenvectors. Verify the eigenvalues by reconstructing the matrix. "
   ]
  },
  {
   "cell_type": "code",
   "execution_count": 27,
   "id": "421aaf18-c56f-40c8-ba92-7736a716035d",
   "metadata": {},
   "outputs": [
    {
     "name": "stdout",
     "output_type": "stream",
     "text": [
      "Random 4x4 Matrix:\n",
      " [[0.53676742 0.66331771 0.06566062 0.02753144]\n",
      " [0.01942772 0.84667152 0.84100667 0.50195163]\n",
      " [0.08023774 0.3271647  0.38538051 0.17966775]\n",
      " [0.67274106 0.36029137 0.30574979 0.87227539]]\n",
      "\n",
      "Eigenvalues:\n",
      " [1.73143306+0.j         0.40130954+0.40115431j 0.40130954-0.40115431j\n",
      " 0.1070427 +0.j        ]\n",
      "\n",
      "Eigenvectors:\n",
      " [[ 0.37217724+0.j         -0.26256554+0.5514553j  -0.26256554-0.5514553j\n",
      "   0.49395442+0.j        ]\n",
      " [ 0.61808498+0.j         -0.29697833-0.27029111j -0.29697833+0.27029111j\n",
      "  -0.35905988+0.j        ]\n",
      " [ 0.2581728 +0.j         -0.10969049-0.01126064j -0.10969049+0.01126064j\n",
      "   0.60752575+0.j        ]\n",
      " [ 0.64249659+0.j          0.67345688+0.j          0.67345688-0.j\n",
      "  -0.50793454+0.j        ]]\n",
      "\n",
      "Reconstructed Matrix:\n",
      " [[0.53676742+1.28530631e-17j 0.66331771+1.30778151e-16j\n",
      "  0.06566062-3.22680684e-16j 0.02753144-9.47371122e-17j]\n",
      " [0.01942772-1.87948999e-17j 0.84667152+3.96994482e-18j\n",
      "  0.84100667-3.55579683e-16j 0.50195163+1.23492678e-18j]\n",
      " [0.08023774-4.25295821e-18j 0.3271647 +2.24663558e-17j\n",
      "  0.38538051-1.63924224e-16j 0.17966775-9.83273224e-18j]\n",
      " [0.67274106+2.31955229e-17j 0.36029137+1.59550323e-16j\n",
      "  0.30574979-3.12302669e-16j 0.87227539-1.17555969e-16j]]\n",
      "\n",
      "Are the original and reconstructed matrices approximately equal? True\n"
     ]
    }
   ],
   "source": [
    "# Step 1: Create a random 4x4 matrix\n",
    "matrix = np.random.rand(4, 4)\n",
    "print(\"Random 4x4 Matrix:\\n\", matrix)\n",
    "\n",
    "# Step 2: Compute the eigenvalues and eigenvectors\n",
    "eigenvalues, eigenvectors = np.linalg.eig(matrix)\n",
    "\n",
    "print(\"\\nEigenvalues:\\n\", eigenvalues)\n",
    "print(\"\\nEigenvectors:\\n\", eigenvectors)\n",
    "\n",
    "# Step 3: Verify the eigenvalues by reconstructing the matrix\n",
    "# Reconstruct the matrix using the formula A = V * D * V^(-1)\n",
    "# where V is the matrix of eigenvectors and D is the diagonal matrix of eigenvalues\n",
    "D = np.diag(eigenvalues)  # Diagonal matrix of eigenvalues\n",
    "reconstructed_matrix = eigenvectors @ D @ np.linalg.inv(eigenvectors)\n",
    "\n",
    "print(\"\\nReconstructed Matrix:\\n\", reconstructed_matrix)\n",
    "\n",
    "# Check if the original matrix and reconstructed matrix are approximately equal\n",
    "print(\"\\nAre the original and reconstructed matrices approximately equal?\", np.allclose(matrix, reconstructed_matrix))"
   ]
  },
  {
   "cell_type": "markdown",
   "id": "4840d226-4721-40b4-9f41-1d0955c1e251",
   "metadata": {},
   "source": [
    "## 20. Question: Create a 1D array of 27 elements and reshape it into a 3x3x3 3D array. Flatten it back into a 1D array and compare the flattened array with the original. "
   ]
  },
  {
   "cell_type": "code",
   "execution_count": 28,
   "id": "1c5dbeb9-3fd1-4226-a227-98b6aea898c9",
   "metadata": {},
   "outputs": [
    {
     "name": "stdout",
     "output_type": "stream",
     "text": [
      "Original array:\n",
      " [ 0  1  2 ... 24 25 26]\n",
      "\n",
      "Reshaped array:\n",
      " [[[ 0  1  2]\n",
      "  [ 3  4  5]\n",
      "  [ 6  7  8]]\n",
      "\n",
      " [[ 9 10 11]\n",
      "  [12 13 14]\n",
      "  [15 16 17]]\n",
      "\n",
      " [[18 19 20]\n",
      "  [21 22 23]\n",
      "  [24 25 26]]]\n",
      "\n",
      "Flattened array:\n",
      " [ 0  1  2 ... 24 25 26]\n",
      "\n",
      "Comaprison of both array: True\n"
     ]
    }
   ],
   "source": [
    "array = np.arange(27)\n",
    "print(\"Original array:\\n\", array)\n",
    "\n",
    "reshaped_array = array.reshape((3,3,3))\n",
    "print(\"\\nReshaped array:\\n\", reshaped_array)\n",
    "\n",
    "flattened_array = reshaped_array.flatten()  # we can also use ravel() function instead of flatten()\n",
    "print(\"\\nFlattened array:\\n\", flattened_array)\n",
    "\n",
    "comparison = np.array_equal(array, flattened_array)\n",
    "print(\"\\nComaprison of both array:\", comparison)"
   ]
  },
  {
   "cell_type": "markdown",
   "id": "76337ed2-e19d-4eb7-a65d-45e671fb7707",
   "metadata": {},
   "source": [
    "## 21. Question: Perform matrix multiplication of two 2D arrays using np.dot () and @. Compare the results and performance of both methods using a large dataset. "
   ]
  },
  {
   "cell_type": "code",
   "execution_count": 29,
   "id": "abdfd656-2b2c-4298-8917-6e6569c6b1c5",
   "metadata": {},
   "outputs": [
    {
     "name": "stdout",
     "output_type": "stream",
     "text": [
      "Matrix multiplication using np.dot() took 0.0241 seconds.\n",
      "Matrix multiplication using @ took 0.0228 seconds.\n",
      "Ressult Match: True\n"
     ]
    }
   ],
   "source": [
    "import time\n",
    "size = 1000\n",
    "M = np.random.rand(size, size)   \n",
    "N = np.random.rand(size, size)\n",
    "\n",
    "# using dot() functiom\n",
    "start_time_dot = time.time()\n",
    "result_dot = np.dot(M, N)\n",
    "end_time_dot = time.time()\n",
    "time_dot = end_time_dot - start_time_dot\n",
    "\n",
    "# using at@ function\n",
    "start_time_at = time.time()\n",
    "result_at = M @ N\n",
    "end_time_at = time.time()\n",
    "time_at = end_time_at - start_time_at\n",
    "\n",
    "print(f\"Matrix multiplication using np.dot() took {time_dot:.4f} seconds.\")\n",
    "print(f\"Matrix multiplication using @ took {time_at:.4f} seconds.\")\n",
    "\n",
    "# Compare result\n",
    "result_match = np.allclose(result_dot, result_at)\n",
    "print(f\"Ressult Match: {result_match}\")"
   ]
  },
  {
   "cell_type": "markdown",
   "id": "1eb84a6f-9b56-457d-bd5c-e9f18dfc1a25",
   "metadata": {},
   "source": [
    "## 22. Question: Create a 3D array of shape (2, 1, 4) and a 2D array of shape (4, 1). Perform an element-wise operation using broadcasting and explain the result. Use np. new axis to achieve the same result without broadcasting. "
   ]
  },
  {
   "cell_type": "code",
   "execution_count": 30,
   "id": "cb289d1d-9b75-4036-a9fd-a969edf2d9bf",
   "metadata": {},
   "outputs": [
    {
     "name": "stdout",
     "output_type": "stream",
     "text": [
      "Result with Broadcasting:\n",
      " [[[11 22 33 44]]\n",
      "\n",
      " [[15 26 37 48]]]\n",
      "Result with newaxis:\n",
      " [[[[11 12 13 14]\n",
      "   [21 22 23 24]\n",
      "   [31 32 33 34]\n",
      "   [41 42 43 44]]]\n",
      "\n",
      "\n",
      " [[[15 16 17 18]\n",
      "   [25 26 27 28]\n",
      "   [35 36 37 38]\n",
      "   [45 46 47 48]]]]\n"
     ]
    }
   ],
   "source": [
    "array_3d = np.array([[[1,2,3,4]], [[5,6,7,8]]])\n",
    "array_2d = np.array([[10],[20],[30],[40]])\n",
    "\n",
    "# Result using Broadcasting\n",
    "result_broadcasting = array_3d + array_2d.T\n",
    "print(\"Result with Broadcasting:\\n\", result_broadcasting)\n",
    "\n",
    "# Result using newaxis function\n",
    "array_2d_newaxis = array_2d[np.newaxis, :, :]\n",
    "array_3d_newaxis = array_3d[:, :, np.newaxis]\n",
    "\n",
    "result_nnewaxis = array_2d_newaxis + array_3d_newaxis\n",
    "print(\"Result with newaxis:\\n\", result_nnewaxis)"
   ]
  },
  {
   "cell_type": "markdown",
   "id": "d5a11566-4e65-4761-ab90-295a02184e2a",
   "metadata": {},
   "source": [
    "## 23. Question: Generate a 2D array of random floats between 0 and 1. Use conditional operators to create a Boolean mask for values less than 0.5. Replace these values with their squares and leave the rest unchanged. "
   ]
  },
  {
   "cell_type": "code",
   "execution_count": 31,
   "id": "0ef03f25-0f5f-451e-aba2-e4558684eb4a",
   "metadata": {},
   "outputs": [
    {
     "name": "stdout",
     "output_type": "stream",
     "text": [
      "Original array:\n",
      " [[0.53298165 0.55134871 0.19337721 0.23073841 0.13120666]\n",
      " [0.77814275 0.2152596  0.68180656 0.90594699 0.28711178]\n",
      " [0.72072423 0.78929545 0.86134827 0.54404029 0.99212111]\n",
      " [0.44655864 0.64270745 0.21920182 0.7887021  0.99719227]\n",
      " [0.09632474 0.97227017 0.53971053 0.93366035 0.8027996 ]]\n",
      "\n",
      "Modified array:\n",
      " [[0.28406944 0.3039854  0.03739475 0.05324021 0.01721519]\n",
      " [0.60550615 0.0463367  0.46486018 0.82073996 0.08243317]\n",
      " [0.51944342 0.62298731 0.74192083 0.29597984 0.9843043 ]\n",
      " [0.19941461 0.41307286 0.04804944 0.622051   0.99439241]\n",
      " [0.00927845 0.94530928 0.29128746 0.87172165 0.6444872 ]]\n"
     ]
    }
   ],
   "source": [
    "A = np.random.rand(5,5)\n",
    "print(\"Original array:\\n\", A)\n",
    "\n",
    "mask = A < 5\n",
    "\n",
    "A[mask] = A[mask] ** 2\n",
    "print(\"\\nModified array:\\n\", A)"
   ]
  },
  {
   "cell_type": "markdown",
   "id": "6f3dacd6-3a00-430c-a305-963d493c0b64",
   "metadata": {},
   "source": [
    "## 24. Question: Given a 5x5 array of sequential integers, use slicing to: \n",
    "* Extract the diagonal elements \n",
    "* Replace the elements of the middle row with zeros \n",
    "* Flip the array vertically and horizontally "
   ]
  },
  {
   "cell_type": "code",
   "execution_count": null,
   "id": "d8718996-9246-4b4c-9979-1e474ef17451",
   "metadata": {},
   "outputs": [],
   "source": [
    "array = np.arange(1,26).reshape(5,5)\n",
    "print(\"Original array:\\n\", array)\n",
    "\n",
    "diagonal = np.diagonal(array)\n",
    "print(\"\\nDiagonal array:\\n\", array)\n",
    "\n",
    "array[2, :] = 0\n",
    "print(\"\\nArray after replacing middle row with 0:\\n\", array)\n",
    "\n",
    "flip = np.flipud(np.fliplr(array))\n",
    "print(\"\\nFlippped array:\\n\", flip)"
   ]
  },
  {
   "cell_type": "markdown",
   "id": "09c03304-6bf6-4a8f-ab78-c30058aea2e2",
   "metadata": {},
   "source": [
    "## 25. Question: Create a 4D array of shape (2, 3, 4, 5) with random integers. Use advanced slicing to extract a subarray and compute the mean along a specified axis. "
   ]
  },
  {
   "cell_type": "code",
   "execution_count": 8,
   "id": "7a634efc-26f5-4cbe-9c98-b4a1628ab964",
   "metadata": {},
   "outputs": [
    {
     "name": "stdout",
     "output_type": "stream",
     "text": [
      "Original array:\n",
      " [[[[90 84 22  5 73]\n",
      "   [91 51 32 17 13]\n",
      "   [98 14  5 68 27]\n",
      "   [30 24 15 70 55]]\n",
      "\n",
      "  [[ 3 63 46  9 46]\n",
      "   [12 65 17 29 85]\n",
      "   [39 67 77 13 82]\n",
      "   [30 28 32 93 17]]\n",
      "\n",
      "  [[77 42 56 12 65]\n",
      "   [22 41 89 49 71]\n",
      "   [93 97 41 91 58]\n",
      "   [24 24 75 37 61]]]\n",
      "\n",
      "\n",
      " [[[33 94 43 97 31]\n",
      "   [89 81 56 27 94]\n",
      "   [77  4 25 38 55]\n",
      "   [60 93 87 71 44]]\n",
      "\n",
      "  [[13 68 25 90 69]\n",
      "   [94 87 27 15 27]\n",
      "   [ 6 68 66 76 42]\n",
      "   [13 12 92 71 64]]\n",
      "\n",
      "  [[36 77 64 23 69]\n",
      "   [40 36 59 94 54]\n",
      "   [50 95  8 90 27]\n",
      "   [ 7 31 74 53 43]]]]\n",
      "\n",
      "Extracted Subarray:\n",
      " [[[98 14  5]\n",
      "  [30 24 15]]\n",
      "\n",
      " [[39 67 77]\n",
      "  [30 28 32]]\n",
      "\n",
      " [[93 97 41]\n",
      "  [24 24 75]]]\n",
      "\n",
      "Mean along axis:\n",
      " [[64.  19.  10. ]\n",
      " [34.5 47.5 54.5]\n",
      " [58.5 60.5 58. ]]\n"
     ]
    }
   ],
   "source": [
    "array_4d = np.random.randint(0, 100, size=(2,3,4,5))\n",
    "print(\"Original array:\\n\", array_4d)\n",
    "\n",
    "subarray = array_4d[0, :, -2:, :3]\n",
    "print(\"\\nExtracted Subarray:\\n\", subarray)\n",
    "\n",
    "mean = np.mean(subarray, axis=1)\n",
    "print(\"\\nMean along axis:\\n\", mean)"
   ]
  },
  {
   "cell_type": "markdown",
   "id": "49185ef8-9807-49f1-b151-f796a0c076ee",
   "metadata": {},
   "source": [
    "## 26. Question: Given an array of shape (10, 20), reshape it to (20, 10) and (5, 40). Discuss the impact on the array's shape, size, and dimensionality. "
   ]
  },
  {
   "cell_type": "code",
   "execution_count": 7,
   "id": "caddb11f-db07-4a8f-ae95-12d8901b9e9e",
   "metadata": {},
   "outputs": [
    {
     "name": "stdout",
     "output_type": "stream",
     "text": [
      "[[  0   1   2   3   4   5   6   7   8   9  10  11  12  13  14  15  16  17\n",
      "   18  19]\n",
      " [ 20  21  22  23  24  25  26  27  28  29  30  31  32  33  34  35  36  37\n",
      "   38  39]\n",
      " [ 40  41  42  43  44  45  46  47  48  49  50  51  52  53  54  55  56  57\n",
      "   58  59]\n",
      " [ 60  61  62  63  64  65  66  67  68  69  70  71  72  73  74  75  76  77\n",
      "   78  79]\n",
      " [ 80  81  82  83  84  85  86  87  88  89  90  91  92  93  94  95  96  97\n",
      "   98  99]\n",
      " [100 101 102 103 104 105 106 107 108 109 110 111 112 113 114 115 116 117\n",
      "  118 119]\n",
      " [120 121 122 123 124 125 126 127 128 129 130 131 132 133 134 135 136 137\n",
      "  138 139]\n",
      " [140 141 142 143 144 145 146 147 148 149 150 151 152 153 154 155 156 157\n",
      "  158 159]\n",
      " [160 161 162 163 164 165 166 167 168 169 170 171 172 173 174 175 176 177\n",
      "  178 179]\n",
      " [180 181 182 183 184 185 186 187 188 189 190 191 192 193 194 195 196 197\n",
      "  198 199]]\n",
      "\n",
      " [[  0   1   2   3   4   5   6   7   8   9]\n",
      " [ 10  11  12  13  14  15  16  17  18  19]\n",
      " [ 20  21  22  23  24  25  26  27  28  29]\n",
      " [ 30  31  32  33  34  35  36  37  38  39]\n",
      " [ 40  41  42  43  44  45  46  47  48  49]\n",
      " [ 50  51  52  53  54  55  56  57  58  59]\n",
      " [ 60  61  62  63  64  65  66  67  68  69]\n",
      " [ 70  71  72  73  74  75  76  77  78  79]\n",
      " [ 80  81  82  83  84  85  86  87  88  89]\n",
      " [ 90  91  92  93  94  95  96  97  98  99]\n",
      " [100 101 102 103 104 105 106 107 108 109]\n",
      " [110 111 112 113 114 115 116 117 118 119]\n",
      " [120 121 122 123 124 125 126 127 128 129]\n",
      " [130 131 132 133 134 135 136 137 138 139]\n",
      " [140 141 142 143 144 145 146 147 148 149]\n",
      " [150 151 152 153 154 155 156 157 158 159]\n",
      " [160 161 162 163 164 165 166 167 168 169]\n",
      " [170 171 172 173 174 175 176 177 178 179]\n",
      " [180 181 182 183 184 185 186 187 188 189]\n",
      " [190 191 192 193 194 195 196 197 198 199]]\n",
      "\n",
      "Reshaped Array (20, 10):\n",
      " [[  0   1   2   3   4   5   6   7   8   9]\n",
      " [ 10  11  12  13  14  15  16  17  18  19]\n",
      " [ 20  21  22  23  24  25  26  27  28  29]\n",
      " [ 30  31  32  33  34  35  36  37  38  39]\n",
      " [ 40  41  42  43  44  45  46  47  48  49]\n",
      " [ 50  51  52  53  54  55  56  57  58  59]\n",
      " [ 60  61  62  63  64  65  66  67  68  69]\n",
      " [ 70  71  72  73  74  75  76  77  78  79]\n",
      " [ 80  81  82  83  84  85  86  87  88  89]\n",
      " [ 90  91  92  93  94  95  96  97  98  99]\n",
      " [100 101 102 103 104 105 106 107 108 109]\n",
      " [110 111 112 113 114 115 116 117 118 119]\n",
      " [120 121 122 123 124 125 126 127 128 129]\n",
      " [130 131 132 133 134 135 136 137 138 139]\n",
      " [140 141 142 143 144 145 146 147 148 149]\n",
      " [150 151 152 153 154 155 156 157 158 159]\n",
      " [160 161 162 163 164 165 166 167 168 169]\n",
      " [170 171 172 173 174 175 176 177 178 179]\n",
      " [180 181 182 183 184 185 186 187 188 189]\n",
      " [190 191 192 193 194 195 196 197 198 199]]\n",
      "Shape: (20, 10)\n",
      "Size: 200\n",
      "Dimensionality: 2\n",
      "\n",
      " [[  0   1   2   3   4   5   6   7   8   9  10  11  12  13  14  15  16  17\n",
      "   18  19  20  21  22  23  24  25  26  27  28  29  30  31  32  33  34  35\n",
      "   36  37  38  39]\n",
      " [ 40  41  42  43  44  45  46  47  48  49  50  51  52  53  54  55  56  57\n",
      "   58  59  60  61  62  63  64  65  66  67  68  69  70  71  72  73  74  75\n",
      "   76  77  78  79]\n",
      " [ 80  81  82  83  84  85  86  87  88  89  90  91  92  93  94  95  96  97\n",
      "   98  99 100 101 102 103 104 105 106 107 108 109 110 111 112 113 114 115\n",
      "  116 117 118 119]\n",
      " [120 121 122 123 124 125 126 127 128 129 130 131 132 133 134 135 136 137\n",
      "  138 139 140 141 142 143 144 145 146 147 148 149 150 151 152 153 154 155\n",
      "  156 157 158 159]\n",
      " [160 161 162 163 164 165 166 167 168 169 170 171 172 173 174 175 176 177\n",
      "  178 179 180 181 182 183 184 185 186 187 188 189 190 191 192 193 194 195\n",
      "  196 197 198 199]]\n",
      "\n",
      "Reshaped Array (5, 40):\n",
      " [[  0   1   2   3   4   5   6   7   8   9  10  11  12  13  14  15  16  17\n",
      "   18  19  20  21  22  23  24  25  26  27  28  29  30  31  32  33  34  35\n",
      "   36  37  38  39]\n",
      " [ 40  41  42  43  44  45  46  47  48  49  50  51  52  53  54  55  56  57\n",
      "   58  59  60  61  62  63  64  65  66  67  68  69  70  71  72  73  74  75\n",
      "   76  77  78  79]\n",
      " [ 80  81  82  83  84  85  86  87  88  89  90  91  92  93  94  95  96  97\n",
      "   98  99 100 101 102 103 104 105 106 107 108 109 110 111 112 113 114 115\n",
      "  116 117 118 119]\n",
      " [120 121 122 123 124 125 126 127 128 129 130 131 132 133 134 135 136 137\n",
      "  138 139 140 141 142 143 144 145 146 147 148 149 150 151 152 153 154 155\n",
      "  156 157 158 159]\n",
      " [160 161 162 163 164 165 166 167 168 169 170 171 172 173 174 175 176 177\n",
      "  178 179 180 181 182 183 184 185 186 187 188 189 190 191 192 193 194 195\n",
      "  196 197 198 199]]\n",
      "Shape: (5, 40)\n",
      "Size: 200\n",
      "Dimensionality: 2\n"
     ]
    }
   ],
   "source": [
    "array = np.arange(200).reshape(10, 20)\n",
    "print(array)\n",
    "\n",
    "reshape1 = array.reshape(20, 10)\n",
    "print(\"\\n\",reshape1)\n",
    "print(\"\\nReshaped Array (20, 10):\\n\", reshape1)\n",
    "print(\"Shape:\", reshape1.shape)\n",
    "print(\"Size:\", reshape1.size)\n",
    "print(\"Dimensionality:\", reshape1.ndim)\n",
    "\n",
    "reshape2 = array.reshape(5,40)\n",
    "print(\"\\n\",reshape2)\n",
    "print(\"\\nReshaped Array (5, 40):\\n\", reshape2)\n",
    "print(\"Shape:\", reshape2.shape)\n",
    "print(\"Size:\", reshape2.size)\n",
    "print(\"Dimensionality:\", reshape2.ndim)"
   ]
  },
  {
   "cell_type": "markdown",
   "id": "9f4f5f4e-eea9-4373-9f09-d755a67a99c3",
   "metadata": {},
   "source": [
    "## 27. Question: Generate a large 2D array and demonstrate the use of np. reshape () and unravel () to manipulate its shape for various linear algebra operations. "
   ]
  },
  {
   "cell_type": "code",
   "execution_count": 6,
   "id": "4d123894-f67a-48f5-a366-b44243e04e41",
   "metadata": {},
   "outputs": [
    {
     "name": "stdout",
     "output_type": "stream",
     "text": [
      "Original 2D Array Shape: (1000, 1000)\n",
      "Reshaped Array (2000, 500): (2000, 500)\n",
      "Reshaped Array (10, 100, 1000): (10, 100, 1000)\n",
      "Flattened Array Shape: (1000000,)\n",
      "Restored Array Shape: (1000, 1000)\n",
      "Result Matrix Shape: (1000, 1000)\n",
      "Mean of the Flattened Array: 499999.5\n"
     ]
    }
   ],
   "source": [
    "rows, cols = 1000, 1000\n",
    "large_array = np.arange(rows * cols).reshape(rows, cols)\n",
    "\n",
    "print(\"Original 2D Array Shape:\", large_array.shape)\n",
    "\n",
    "reshaped_array_1 = large_array.reshape((2000, 500))\n",
    "reshaped_array_2 = large_array.reshape((10, 100, 1000))\n",
    "\n",
    "print(\"Reshaped Array (2000, 500):\", reshaped_array_1.shape)\n",
    "print(\"Reshaped Array (10, 100, 1000):\", reshaped_array_2.shape)\n",
    "\n",
    "flattened_array = large_array.ravel()\n",
    "print(\"Flattened Array Shape:\", flattened_array.shape)\n",
    "\n",
    "restored_array = flattened_array.reshape(rows, cols)\n",
    "print(\"Restored Array Shape:\", restored_array.shape)\n",
    "\n",
    "matrix_1 = np.random.rand(500, 1000)\n",
    "matrix_2 = np.random.rand(1000, 500)\n",
    "\n",
    "reshaped_matrix_1 = matrix_1.reshape(1000, 500)\n",
    "reshaped_matrix_2 = matrix_2.reshape(500, 1000)\n",
    "\n",
    "result_matrix = np.dot(reshaped_matrix_1, reshaped_matrix_2)\n",
    "\n",
    "print(\"Result Matrix Shape:\", result_matrix.shape)\n",
    "\n",
    "mean_value = np.mean(flattened_array)\n",
    "print(\"Mean of the Flattened Array:\", mean_value)"
   ]
  },
  {
   "cell_type": "markdown",
   "id": "9ecfbd10-43b4-4cc8-828f-10b6491ac7f4",
   "metadata": {},
   "source": [
    "## 28. Question: Given a 6x6 matrix, use advanced indexing and slicing to extract the upper triangular part of the matrix and set the lower triangular part to zero. Verify the result."
   ]
  },
  {
   "cell_type": "code",
   "execution_count": 5,
   "id": "40c16e7a-4282-44f5-a1bd-fadb413fefb8",
   "metadata": {},
   "outputs": [
    {
     "name": "stdout",
     "output_type": "stream",
     "text": [
      "Original Matrix:\n",
      " [[2 5 5 7 3 6]\n",
      " [7 2 1 3 7 2]\n",
      " [5 8 9 4 5 3]\n",
      " [2 5 3 4 6 1]\n",
      " [2 2 1 4 5 5]\n",
      " [3 9 7 6 3 3]]\n",
      "\n",
      "Upper Triangular Part:\n",
      " [[2 5 5 7 3 6]\n",
      " [0 2 1 3 7 2]\n",
      " [0 0 9 4 5 3]\n",
      " [0 0 0 4 6 1]\n",
      " [0 0 0 0 5 5]\n",
      " [0 0 0 0 0 3]]\n",
      "\n",
      "Matrix after setting lower triangular part to zero:\n",
      " [[2 5 5 7 3 6]\n",
      " [0 2 1 3 7 2]\n",
      " [0 0 9 4 5 3]\n",
      " [0 0 0 4 6 1]\n",
      " [0 0 0 0 5 5]\n",
      " [0 0 0 0 0 3]]\n",
      "\n",
      "Verification (should be upper triangular):\n",
      "[[2 5 5 7 3 6]\n",
      " [0 2 1 3 7 2]\n",
      " [0 0 9 4 5 3]\n",
      " [0 0 0 4 6 1]\n",
      " [0 0 0 0 5 5]\n",
      " [0 0 0 0 0 3]]\n"
     ]
    }
   ],
   "source": [
    "import numpy as np\n",
    "\n",
    "# Step 1: Create a 6x6 matrix\n",
    "matrix = np.random.randint(1, 10, size=(6, 6))  # Generating a 6x6 matrix with random integers\n",
    "print(\"Original Matrix:\\n\", matrix)\n",
    "\n",
    "# Step 2: Extract the upper triangular part\n",
    "upper_triangular = np.triu(matrix)  # This keeps the upper triangular part and sets the lower part to zero\n",
    "print(\"\\nUpper Triangular Part:\\n\", upper_triangular)\n",
    "\n",
    "# Step 3: Set the lower triangular part to zero\n",
    "matrix[np.tril_indices(6, -1)] = 0  # Set lower triangular indices to zero\n",
    "print(\"\\nMatrix after setting lower triangular part to zero:\\n\", matrix)\n",
    "\n",
    "# Step 4: Verify the result\n",
    "print(\"\\nVerification (should be upper triangular):\")\n",
    "print(matrix)"
   ]
  }
 ],
 "metadata": {
  "kernelspec": {
   "display_name": "Python 3 (ipykernel)",
   "language": "python",
   "name": "python3"
  },
  "language_info": {
   "codemirror_mode": {
    "name": "ipython",
    "version": 3
   },
   "file_extension": ".py",
   "mimetype": "text/x-python",
   "name": "python",
   "nbconvert_exporter": "python",
   "pygments_lexer": "ipython3",
   "version": "3.12.4"
  }
 },
 "nbformat": 4,
 "nbformat_minor": 5
}
